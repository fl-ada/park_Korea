{
 "cells": [
  {
   "cell_type": "markdown",
   "metadata": {},
   "source": [
    "## This tutorial is originally written by corazzon, https://github.com/corazzon/OpenDataWrangling/blob/master/park.ipynb, with some edition by myself.\n",
    "\n",
    "<ul><li>It visualizes distribution of parks in South Korea.</li></ul>"
   ]
  },
  {
   "cell_type": "code",
   "execution_count": 38,
   "metadata": {},
   "outputs": [],
   "source": [
    "import warnings\n",
    "warnings.filterwarnings('ignore')"
   ]
  },
  {
   "cell_type": "code",
   "execution_count": 39,
   "metadata": {},
   "outputs": [],
   "source": [
    "import pandas as pd\n",
    "import numpy as np\n",
    "from plotnine import *\n",
    "import re\n",
    "\n",
    "import folium"
   ]
  },
  {
   "cell_type": "code",
   "execution_count": 40,
   "metadata": {
    "scrolled": true
   },
   "outputs": [
    {
     "data": {
      "text/plain": [
       "(16096, 20)"
      ]
     },
     "execution_count": 40,
     "metadata": {},
     "output_type": "execute_result"
    }
   ],
   "source": [
    "park = pd.read_csv('data/전국도시공원표준데이터.csv', encoding='euc-kr')\n",
    "park.shape"
   ]
  },
  {
   "cell_type": "code",
   "execution_count": 41,
   "metadata": {
    "scrolled": false
   },
   "outputs": [
    {
     "data": {
      "text/html": [
       "<div>\n",
       "<style scoped>\n",
       "    .dataframe tbody tr th:only-of-type {\n",
       "        vertical-align: middle;\n",
       "    }\n",
       "\n",
       "    .dataframe tbody tr th {\n",
       "        vertical-align: top;\n",
       "    }\n",
       "\n",
       "    .dataframe thead th {\n",
       "        text-align: right;\n",
       "    }\n",
       "</style>\n",
       "<table border=\"1\" class=\"dataframe\">\n",
       "  <thead>\n",
       "    <tr style=\"text-align: right;\">\n",
       "      <th></th>\n",
       "      <th>관리번호</th>\n",
       "      <th>공원명</th>\n",
       "      <th>공원구분</th>\n",
       "      <th>소재지도로명주소</th>\n",
       "      <th>소재지지번주소</th>\n",
       "      <th>위도</th>\n",
       "      <th>경도</th>\n",
       "      <th>공원면적</th>\n",
       "      <th>공원보유시설(운동시설)</th>\n",
       "      <th>공원보유시설(유희시설)</th>\n",
       "      <th>공원보유시설(편익시설)</th>\n",
       "      <th>공원보유시설(교양시설)</th>\n",
       "      <th>공원보유시설(기타시설)</th>\n",
       "      <th>지정고시일</th>\n",
       "      <th>관리기관명</th>\n",
       "      <th>전화번호</th>\n",
       "      <th>데이터기준일자</th>\n",
       "      <th>제공기관코드</th>\n",
       "      <th>제공기관명</th>\n",
       "      <th>Unnamed: 19</th>\n",
       "    </tr>\n",
       "  </thead>\n",
       "  <tbody>\n",
       "    <tr>\n",
       "      <th>0</th>\n",
       "      <td>29170-00001</td>\n",
       "      <td>문화근린공원</td>\n",
       "      <td>근린공원</td>\n",
       "      <td>광주광역시 북구 대천로 86</td>\n",
       "      <td>광주광역시 북구 문흥동 1009-1</td>\n",
       "      <td>35.184917</td>\n",
       "      <td>126.916686</td>\n",
       "      <td>87710.3</td>\n",
       "      <td>NaN</td>\n",
       "      <td>NaN</td>\n",
       "      <td>NaN</td>\n",
       "      <td>NaN</td>\n",
       "      <td>NaN</td>\n",
       "      <td>1990-12-31</td>\n",
       "      <td>광주광역시 북구청</td>\n",
       "      <td>062-410-6438</td>\n",
       "      <td>2018-04-17</td>\n",
       "      <td>3620000</td>\n",
       "      <td>광주광역시 북구</td>\n",
       "      <td>NaN</td>\n",
       "    </tr>\n",
       "    <tr>\n",
       "      <th>1</th>\n",
       "      <td>29170-00002</td>\n",
       "      <td>두암제1근린공원</td>\n",
       "      <td>근린공원</td>\n",
       "      <td>광주광역시 북구 삼정로 36</td>\n",
       "      <td>광주광역시 북구 두암동 969-4</td>\n",
       "      <td>35.165104</td>\n",
       "      <td>126.937650</td>\n",
       "      <td>13383.5</td>\n",
       "      <td>NaN</td>\n",
       "      <td>NaN</td>\n",
       "      <td>NaN</td>\n",
       "      <td>NaN</td>\n",
       "      <td>NaN</td>\n",
       "      <td>1990-12-12</td>\n",
       "      <td>광주광역시 북구청</td>\n",
       "      <td>062-410-6438</td>\n",
       "      <td>2018-04-17</td>\n",
       "      <td>3620000</td>\n",
       "      <td>광주광역시 북구</td>\n",
       "      <td>NaN</td>\n",
       "    </tr>\n",
       "    <tr>\n",
       "      <th>2</th>\n",
       "      <td>29170-00003</td>\n",
       "      <td>첨단체육근린공원</td>\n",
       "      <td>근린공원</td>\n",
       "      <td>광주광역시 북구 임방울대로 877</td>\n",
       "      <td>광주광역시 북구 오룡동 1113</td>\n",
       "      <td>35.220546</td>\n",
       "      <td>126.858765</td>\n",
       "      <td>170920.6</td>\n",
       "      <td>NaN</td>\n",
       "      <td>NaN</td>\n",
       "      <td>NaN</td>\n",
       "      <td>NaN</td>\n",
       "      <td>NaN</td>\n",
       "      <td>1991-12-12</td>\n",
       "      <td>광주광역시 북구청</td>\n",
       "      <td>062-410-6438</td>\n",
       "      <td>2018-04-17</td>\n",
       "      <td>3620000</td>\n",
       "      <td>광주광역시 북구</td>\n",
       "      <td>NaN</td>\n",
       "    </tr>\n",
       "    <tr>\n",
       "      <th>3</th>\n",
       "      <td>29170-00004</td>\n",
       "      <td>일곡제1근린공원</td>\n",
       "      <td>근린공원</td>\n",
       "      <td>광주광역시 북구 일곡로 55</td>\n",
       "      <td>광주광역시 북구 일곡동 850-1</td>\n",
       "      <td>35.207975</td>\n",
       "      <td>126.895445</td>\n",
       "      <td>34840.3</td>\n",
       "      <td>NaN</td>\n",
       "      <td>NaN</td>\n",
       "      <td>NaN</td>\n",
       "      <td>NaN</td>\n",
       "      <td>NaN</td>\n",
       "      <td>1993-12-06</td>\n",
       "      <td>광주광역시 북구청</td>\n",
       "      <td>062-410-6438</td>\n",
       "      <td>2018-04-17</td>\n",
       "      <td>3620000</td>\n",
       "      <td>광주광역시 북구</td>\n",
       "      <td>NaN</td>\n",
       "    </tr>\n",
       "  </tbody>\n",
       "</table>\n",
       "</div>"
      ],
      "text/plain": [
       "          관리번호       공원명  공원구분            소재지도로명주소              소재지지번주소  \\\n",
       "0  29170-00001    문화근린공원  근린공원     광주광역시 북구 대천로 86  광주광역시 북구 문흥동 1009-1   \n",
       "1  29170-00002  두암제1근린공원  근린공원     광주광역시 북구 삼정로 36   광주광역시 북구 두암동 969-4   \n",
       "2  29170-00003  첨단체육근린공원  근린공원  광주광역시 북구 임방울대로 877    광주광역시 북구 오룡동 1113   \n",
       "3  29170-00004  일곡제1근린공원  근린공원     광주광역시 북구 일곡로 55   광주광역시 북구 일곡동 850-1   \n",
       "\n",
       "          위도          경도      공원면적 공원보유시설(운동시설) 공원보유시설(유희시설) 공원보유시설(편익시설)  \\\n",
       "0  35.184917  126.916686   87710.3          NaN          NaN          NaN   \n",
       "1  35.165104  126.937650   13383.5          NaN          NaN          NaN   \n",
       "2  35.220546  126.858765  170920.6          NaN          NaN          NaN   \n",
       "3  35.207975  126.895445   34840.3          NaN          NaN          NaN   \n",
       "\n",
       "  공원보유시설(교양시설) 공원보유시설(기타시설)       지정고시일      관리기관명          전화번호     데이터기준일자  \\\n",
       "0          NaN          NaN  1990-12-31  광주광역시 북구청  062-410-6438  2018-04-17   \n",
       "1          NaN          NaN  1990-12-12  광주광역시 북구청  062-410-6438  2018-04-17   \n",
       "2          NaN          NaN  1991-12-12  광주광역시 북구청  062-410-6438  2018-04-17   \n",
       "3          NaN          NaN  1993-12-06  광주광역시 북구청  062-410-6438  2018-04-17   \n",
       "\n",
       "    제공기관코드     제공기관명  Unnamed: 19  \n",
       "0  3620000  광주광역시 북구          NaN  \n",
       "1  3620000  광주광역시 북구          NaN  \n",
       "2  3620000  광주광역시 북구          NaN  \n",
       "3  3620000  광주광역시 북구          NaN  "
      ]
     },
     "execution_count": 41,
     "metadata": {},
     "output_type": "execute_result"
    }
   ],
   "source": [
    "park.head(4)"
   ]
  },
  {
   "cell_type": "code",
   "execution_count": 42,
   "metadata": {},
   "outputs": [
    {
     "name": "stdout",
     "output_type": "stream",
     "text": [
      "<class 'pandas.core.frame.DataFrame'>\n",
      "RangeIndex: 16096 entries, 0 to 16095\n",
      "Data columns (total 20 columns):\n",
      "관리번호            16096 non-null object\n",
      "공원명             16096 non-null object\n",
      "공원구분            16096 non-null object\n",
      "소재지도로명주소        8321 non-null object\n",
      "소재지지번주소         15213 non-null object\n",
      "위도              16096 non-null float64\n",
      "경도              16096 non-null float64\n",
      "공원면적            16096 non-null float64\n",
      "공원보유시설(운동시설)    4164 non-null object\n",
      "공원보유시설(유희시설)    6085 non-null object\n",
      "공원보유시설(편익시설)    4344 non-null object\n",
      "공원보유시설(교양시설)    914 non-null object\n",
      "공원보유시설(기타시설)    2503 non-null object\n",
      "지정고시일           13512 non-null object\n",
      "관리기관명           15381 non-null object\n",
      "전화번호            14966 non-null object\n",
      "데이터기준일자         16096 non-null object\n",
      "제공기관코드          16096 non-null object\n",
      "제공기관명           16096 non-null object\n",
      "Unnamed: 19     0 non-null float64\n",
      "dtypes: float64(4), object(16)\n",
      "memory usage: 2.5+ MB\n"
     ]
    }
   ],
   "source": [
    "park.info()"
   ]
  },
  {
   "cell_type": "code",
   "execution_count": 43,
   "metadata": {},
   "outputs": [
    {
     "data": {
      "text/plain": [
       "관리번호                0\n",
       "공원명                 0\n",
       "공원구분                0\n",
       "소재지도로명주소         7775\n",
       "소재지지번주소           883\n",
       "위도                  0\n",
       "경도                  0\n",
       "공원면적                0\n",
       "공원보유시설(운동시설)    11932\n",
       "공원보유시설(유희시설)    10011\n",
       "공원보유시설(편익시설)    11752\n",
       "공원보유시설(교양시설)    15182\n",
       "공원보유시설(기타시설)    13593\n",
       "지정고시일            2584\n",
       "관리기관명             715\n",
       "전화번호             1130\n",
       "데이터기준일자             0\n",
       "제공기관코드              0\n",
       "제공기관명               0\n",
       "Unnamed: 19     16096\n",
       "dtype: int64"
      ]
     },
     "execution_count": 43,
     "metadata": {},
     "output_type": "execute_result"
    }
   ],
   "source": [
    "park.isnull().sum()"
   ]
  },
  {
   "cell_type": "code",
   "execution_count": 44,
   "metadata": {
    "scrolled": true
   },
   "outputs": [
    {
     "data": {
      "text/plain": [
       "<matplotlib.axes._subplots.AxesSubplot at 0x719ef3e7f0>"
      ]
     },
     "execution_count": 44,
     "metadata": {},
     "output_type": "execute_result"
    },
    {
     "data": {
      "image/png": "[encoded data removed]",
      "text/plain": [
       "<Figure size 1800x720 with 2 Axes>"
      ]
     },
     "metadata": {
      "needs_background": "light"
     },
     "output_type": "display_data"
    }
   ],
   "source": [
    "import missingno as msno\n",
    "msno.matrix(park)"
   ]
  },
  {
   "cell_type": "code",
   "execution_count": 45,
   "metadata": {
    "scrolled": true
   },
   "outputs": [
    {
     "data": {
      "text/plain": [
       "Index(['관리번호', '공원명', '공원구분', '소재지도로명주소', '소재지지번주소', '위도', '경도', '공원면적',\n",
       "       '공원보유시설(운동시설)', '공원보유시설(유희시설)', '공원보유시설(편익시설)', '공원보유시설(교양시설)',\n",
       "       '공원보유시설(기타시설)', '지정고시일', '관리기관명', '전화번호', '데이터기준일자', '제공기관코드', '제공기관명',\n",
       "       'Unnamed: 19'],\n",
       "      dtype='object')"
      ]
     },
     "execution_count": 45,
     "metadata": {},
     "output_type": "execute_result"
    }
   ],
   "source": [
    "park.columns"
   ]
  },
  {
   "cell_type": "markdown",
   "metadata": {},
   "source": [
    "Column names are broken due to font issue.\n",
    "There are some columns not needed for this analysis, so let's drom them."
   ]
  },
  {
   "cell_type": "code",
   "execution_count": 46,
   "metadata": {},
   "outputs": [],
   "source": [
    "park.drop(columns=['공원보유시설(운동시설)', '공원보유시설(유희시설)', '공원보유시설(편익시설)', '공원보유시설(교양시설)',\n",
    "       '공원보유시설(기타시설)', '지정고시일', '관리기관명', 'Unnamed: 19'], inplace=True)"
   ]
  },
  {
   "cell_type": "code",
   "execution_count": 47,
   "metadata": {
    "scrolled": true
   },
   "outputs": [
    {
     "data": {
      "text/plain": [
       "(16096, 12)"
      ]
     },
     "execution_count": 47,
     "metadata": {},
     "output_type": "execute_result"
    }
   ],
   "source": [
    "park.shape"
   ]
  },
  {
   "cell_type": "markdown",
   "metadata": {},
   "source": [
    "# Visualizes Latitude/longitude"
   ]
  },
  {
   "cell_type": "code",
   "execution_count": 48,
   "metadata": {},
   "outputs": [
    {
     "data": {
      "image/png": "[encoded data removed]",
      "text/plain": [
       "<Figure size 640x480 with 1 Axes>"
      ]
     },
     "metadata": {},
     "output_type": "display_data"
    },
    {
     "data": {
      "text/plain": [
       "<ggplot: (-9223372006354906680)>"
      ]
     },
     "execution_count": 48,
     "metadata": {},
     "output_type": "execute_result"
    }
   ],
   "source": [
    "(ggplot(park) + aes(x='경도', y='위도') + geom_point() + labs(x=\"Longitude\", y=\"Latitude\"))\n"
   ]
  },
  {
   "cell_type": "markdown",
   "metadata": {},
   "source": [
    "# Data Cleaning\n",
    "<ul>\n",
    "    <li>Replace to other address if either of addresses is missing</li>\n",
    "    <li>Remove outliers (out of S.korean territory)</li>\n",
    "</ul>"
   ]
  },
  {
   "cell_type": "markdown",
   "metadata": {},
   "source": [
    "## Adjust data to plotable no."
   ]
  },
  {
   "cell_type": "code",
   "execution_count": 49,
   "metadata": {},
   "outputs": [
    {
     "data": {
      "text/plain": [
       "관리번호         object\n",
       "공원명          object\n",
       "공원구분         object\n",
       "소재지도로명주소     object\n",
       "소재지지번주소      object\n",
       "위도          float64\n",
       "경도          float64\n",
       "공원면적        float64\n",
       "전화번호         object\n",
       "데이터기준일자      object\n",
       "제공기관코드       object\n",
       "제공기관명        object\n",
       "dtype: object"
      ]
     },
     "execution_count": 49,
     "metadata": {},
     "output_type": "execute_result"
    }
   ],
   "source": [
    "park.dtypes"
   ]
  },
  {
   "cell_type": "code",
   "execution_count": 50,
   "metadata": {},
   "outputs": [
    {
     "data": {
      "text/plain": [
       "0     87710.3\n",
       "1     13383.5\n",
       "2    170920.6\n",
       "3     34840.3\n",
       "4     10315.0\n",
       "Name: 공원면적, dtype: float64"
      ]
     },
     "execution_count": 50,
     "metadata": {},
     "output_type": "execute_result"
    }
   ],
   "source": [
    "park['공원면적'].head()"
   ]
  },
  {
   "cell_type": "markdown",
   "metadata": {},
   "source": [
    "Since the sizes are in too big numbers to plot, adjust them."
   ]
  },
  {
   "cell_type": "code",
   "execution_count": 51,
   "metadata": {},
   "outputs": [
    {
     "data": {
      "text/plain": [
       "0    2.961592\n",
       "1    1.156871\n",
       "2    4.134254\n",
       "3    1.866556\n",
       "4    1.015628\n",
       "Name: size ratio, dtype: float64"
      ]
     },
     "execution_count": 51,
     "metadata": {},
     "output_type": "execute_result"
    }
   ],
   "source": [
    "park['size ratio'] = park['공원면적'].apply(lambda x : np.sqrt(x)*0.01)\n",
    "park['size ratio'].head()"
   ]
  },
  {
   "cell_type": "markdown",
   "metadata": {},
   "source": [
    "## Address adjustment"
   ]
  },
  {
   "cell_type": "code",
   "execution_count": 52,
   "metadata": {},
   "outputs": [
    {
     "data": {
      "text/plain": [
       "7775"
      ]
     },
     "execution_count": 52,
     "metadata": {},
     "output_type": "execute_result"
    }
   ],
   "source": [
    "# address type 1\n",
    "park['소재지도로명주소'].isnull().sum()"
   ]
  },
  {
   "cell_type": "code",
   "execution_count": 53,
   "metadata": {},
   "outputs": [
    {
     "data": {
      "text/plain": [
       "883"
      ]
     },
     "execution_count": 53,
     "metadata": {},
     "output_type": "execute_result"
    }
   ],
   "source": [
    "# address type 2\n",
    "park['소재지지번주소'].isnull().sum()"
   ]
  },
  {
   "cell_type": "code",
   "execution_count": 54,
   "metadata": {},
   "outputs": [
    {
     "data": {
      "text/plain": [
       "(7775, 13)"
      ]
     },
     "execution_count": 54,
     "metadata": {},
     "output_type": "execute_result"
    }
   ],
   "source": [
    "park.loc[(park['소재지도로명주소'].isnull()) & (park['소재지지번주소'].notnull())].shape"
   ]
  },
  {
   "cell_type": "code",
   "execution_count": 55,
   "metadata": {},
   "outputs": [],
   "source": [
    "park['소재지도로명주소'].fillna(park['소재지지번주소'], inplace = True)"
   ]
  },
  {
   "cell_type": "code",
   "execution_count": 56,
   "metadata": {},
   "outputs": [
    {
     "data": {
      "text/plain": [
       "0"
      ]
     },
     "execution_count": 56,
     "metadata": {},
     "output_type": "execute_result"
    }
   ],
   "source": [
    "park['소재지도로명주소'].isnull().sum()"
   ]
  },
  {
   "cell_type": "code",
   "execution_count": 57,
   "metadata": {},
   "outputs": [
    {
     "data": {
      "text/plain": [
       "(0, 13)"
      ]
     },
     "execution_count": 57,
     "metadata": {},
     "output_type": "execute_result"
    }
   ],
   "source": [
    "park_loc = park.loc[(park['소재지도로명주소'].isnull()) & (park['소재지지번주소'].notnull())]\n",
    "park_loc.shape"
   ]
  },
  {
   "cell_type": "markdown",
   "metadata": {},
   "source": [
    "## Categorize locations\n",
    "!note: Korean address is larger to smaller (e.g. province, city, gu, apt.name, #th floor, room %%)"
   ]
  },
  {
   "cell_type": "code",
   "execution_count": 58,
   "metadata": {},
   "outputs": [
    {
     "data": {
      "text/html": [
       "<div>\n",
       "<style scoped>\n",
       "    .dataframe tbody tr th:only-of-type {\n",
       "        vertical-align: middle;\n",
       "    }\n",
       "\n",
       "    .dataframe tbody tr th {\n",
       "        vertical-align: top;\n",
       "    }\n",
       "\n",
       "    .dataframe thead th {\n",
       "        text-align: right;\n",
       "    }\n",
       "</style>\n",
       "<table border=\"1\" class=\"dataframe\">\n",
       "  <thead>\n",
       "    <tr style=\"text-align: right;\">\n",
       "      <th></th>\n",
       "      <th>관리번호</th>\n",
       "      <th>공원명</th>\n",
       "      <th>공원구분</th>\n",
       "      <th>소재지도로명주소</th>\n",
       "      <th>소재지지번주소</th>\n",
       "      <th>위도</th>\n",
       "      <th>경도</th>\n",
       "      <th>공원면적</th>\n",
       "      <th>전화번호</th>\n",
       "      <th>데이터기준일자</th>\n",
       "      <th>제공기관코드</th>\n",
       "      <th>제공기관명</th>\n",
       "      <th>size ratio</th>\n",
       "      <th>City/Province</th>\n",
       "    </tr>\n",
       "  </thead>\n",
       "  <tbody>\n",
       "    <tr>\n",
       "      <th>0</th>\n",
       "      <td>29170-00001</td>\n",
       "      <td>문화근린공원</td>\n",
       "      <td>근린공원</td>\n",
       "      <td>광주광역시 북구 대천로 86</td>\n",
       "      <td>광주광역시 북구 문흥동 1009-1</td>\n",
       "      <td>35.184917</td>\n",
       "      <td>126.916686</td>\n",
       "      <td>87710.3</td>\n",
       "      <td>062-410-6438</td>\n",
       "      <td>2018-04-17</td>\n",
       "      <td>3620000</td>\n",
       "      <td>광주광역시 북구</td>\n",
       "      <td>2.961592</td>\n",
       "      <td>광주광역시</td>\n",
       "    </tr>\n",
       "    <tr>\n",
       "      <th>1</th>\n",
       "      <td>29170-00002</td>\n",
       "      <td>두암제1근린공원</td>\n",
       "      <td>근린공원</td>\n",
       "      <td>광주광역시 북구 삼정로 36</td>\n",
       "      <td>광주광역시 북구 두암동 969-4</td>\n",
       "      <td>35.165104</td>\n",
       "      <td>126.937650</td>\n",
       "      <td>13383.5</td>\n",
       "      <td>062-410-6438</td>\n",
       "      <td>2018-04-17</td>\n",
       "      <td>3620000</td>\n",
       "      <td>광주광역시 북구</td>\n",
       "      <td>1.156871</td>\n",
       "      <td>광주광역시</td>\n",
       "    </tr>\n",
       "    <tr>\n",
       "      <th>2</th>\n",
       "      <td>29170-00003</td>\n",
       "      <td>첨단체육근린공원</td>\n",
       "      <td>근린공원</td>\n",
       "      <td>광주광역시 북구 임방울대로 877</td>\n",
       "      <td>광주광역시 북구 오룡동 1113</td>\n",
       "      <td>35.220546</td>\n",
       "      <td>126.858765</td>\n",
       "      <td>170920.6</td>\n",
       "      <td>062-410-6438</td>\n",
       "      <td>2018-04-17</td>\n",
       "      <td>3620000</td>\n",
       "      <td>광주광역시 북구</td>\n",
       "      <td>4.134254</td>\n",
       "      <td>광주광역시</td>\n",
       "    </tr>\n",
       "  </tbody>\n",
       "</table>\n",
       "</div>"
      ],
      "text/plain": [
       "          관리번호       공원명  공원구분            소재지도로명주소              소재지지번주소  \\\n",
       "0  29170-00001    문화근린공원  근린공원     광주광역시 북구 대천로 86  광주광역시 북구 문흥동 1009-1   \n",
       "1  29170-00002  두암제1근린공원  근린공원     광주광역시 북구 삼정로 36   광주광역시 북구 두암동 969-4   \n",
       "2  29170-00003  첨단체육근린공원  근린공원  광주광역시 북구 임방울대로 877    광주광역시 북구 오룡동 1113   \n",
       "\n",
       "          위도          경도      공원면적          전화번호     데이터기준일자   제공기관코드  \\\n",
       "0  35.184917  126.916686   87710.3  062-410-6438  2018-04-17  3620000   \n",
       "1  35.165104  126.937650   13383.5  062-410-6438  2018-04-17  3620000   \n",
       "2  35.220546  126.858765  170920.6  062-410-6438  2018-04-17  3620000   \n",
       "\n",
       "      제공기관명  size ratio City/Province  \n",
       "0  광주광역시 북구    2.961592         광주광역시  \n",
       "1  광주광역시 북구    1.156871         광주광역시  \n",
       "2  광주광역시 북구    4.134254         광주광역시  "
      ]
     },
     "execution_count": 58,
     "metadata": {},
     "output_type": "execute_result"
    }
   ],
   "source": [
    "park['City/Province'] = park['소재지도로명주소'].str.split(' ', expand=True)[0]\n",
    "park.head(3)"
   ]
  },
  {
   "cell_type": "code",
   "execution_count": 59,
   "metadata": {},
   "outputs": [
    {
     "data": {
      "text/html": [
       "<div>\n",
       "<style scoped>\n",
       "    .dataframe tbody tr th:only-of-type {\n",
       "        vertical-align: middle;\n",
       "    }\n",
       "\n",
       "    .dataframe tbody tr th {\n",
       "        vertical-align: top;\n",
       "    }\n",
       "\n",
       "    .dataframe thead th {\n",
       "        text-align: right;\n",
       "    }\n",
       "</style>\n",
       "<table border=\"1\" class=\"dataframe\">\n",
       "  <thead>\n",
       "    <tr style=\"text-align: right;\">\n",
       "      <th></th>\n",
       "      <th>관리번호</th>\n",
       "      <th>공원명</th>\n",
       "      <th>공원구분</th>\n",
       "      <th>소재지도로명주소</th>\n",
       "      <th>소재지지번주소</th>\n",
       "      <th>위도</th>\n",
       "      <th>경도</th>\n",
       "      <th>공원면적</th>\n",
       "      <th>전화번호</th>\n",
       "      <th>데이터기준일자</th>\n",
       "      <th>제공기관코드</th>\n",
       "      <th>제공기관명</th>\n",
       "      <th>size ratio</th>\n",
       "      <th>City/Province</th>\n",
       "      <th>Gu/Gun</th>\n",
       "    </tr>\n",
       "  </thead>\n",
       "  <tbody>\n",
       "    <tr>\n",
       "      <th>0</th>\n",
       "      <td>29170-00001</td>\n",
       "      <td>문화근린공원</td>\n",
       "      <td>근린공원</td>\n",
       "      <td>광주광역시 북구 대천로 86</td>\n",
       "      <td>광주광역시 북구 문흥동 1009-1</td>\n",
       "      <td>35.184917</td>\n",
       "      <td>126.916686</td>\n",
       "      <td>87710.3</td>\n",
       "      <td>062-410-6438</td>\n",
       "      <td>2018-04-17</td>\n",
       "      <td>3620000</td>\n",
       "      <td>광주광역시 북구</td>\n",
       "      <td>2.961592</td>\n",
       "      <td>광주광역시</td>\n",
       "      <td>북구</td>\n",
       "    </tr>\n",
       "    <tr>\n",
       "      <th>1</th>\n",
       "      <td>29170-00002</td>\n",
       "      <td>두암제1근린공원</td>\n",
       "      <td>근린공원</td>\n",
       "      <td>광주광역시 북구 삼정로 36</td>\n",
       "      <td>광주광역시 북구 두암동 969-4</td>\n",
       "      <td>35.165104</td>\n",
       "      <td>126.937650</td>\n",
       "      <td>13383.5</td>\n",
       "      <td>062-410-6438</td>\n",
       "      <td>2018-04-17</td>\n",
       "      <td>3620000</td>\n",
       "      <td>광주광역시 북구</td>\n",
       "      <td>1.156871</td>\n",
       "      <td>광주광역시</td>\n",
       "      <td>북구</td>\n",
       "    </tr>\n",
       "    <tr>\n",
       "      <th>2</th>\n",
       "      <td>29170-00003</td>\n",
       "      <td>첨단체육근린공원</td>\n",
       "      <td>근린공원</td>\n",
       "      <td>광주광역시 북구 임방울대로 877</td>\n",
       "      <td>광주광역시 북구 오룡동 1113</td>\n",
       "      <td>35.220546</td>\n",
       "      <td>126.858765</td>\n",
       "      <td>170920.6</td>\n",
       "      <td>062-410-6438</td>\n",
       "      <td>2018-04-17</td>\n",
       "      <td>3620000</td>\n",
       "      <td>광주광역시 북구</td>\n",
       "      <td>4.134254</td>\n",
       "      <td>광주광역시</td>\n",
       "      <td>북구</td>\n",
       "    </tr>\n",
       "  </tbody>\n",
       "</table>\n",
       "</div>"
      ],
      "text/plain": [
       "          관리번호       공원명  공원구분            소재지도로명주소              소재지지번주소  \\\n",
       "0  29170-00001    문화근린공원  근린공원     광주광역시 북구 대천로 86  광주광역시 북구 문흥동 1009-1   \n",
       "1  29170-00002  두암제1근린공원  근린공원     광주광역시 북구 삼정로 36   광주광역시 북구 두암동 969-4   \n",
       "2  29170-00003  첨단체육근린공원  근린공원  광주광역시 북구 임방울대로 877    광주광역시 북구 오룡동 1113   \n",
       "\n",
       "          위도          경도      공원면적          전화번호     데이터기준일자   제공기관코드  \\\n",
       "0  35.184917  126.916686   87710.3  062-410-6438  2018-04-17  3620000   \n",
       "1  35.165104  126.937650   13383.5  062-410-6438  2018-04-17  3620000   \n",
       "2  35.220546  126.858765  170920.6  062-410-6438  2018-04-17  3620000   \n",
       "\n",
       "      제공기관명  size ratio City/Province Gu/Gun  \n",
       "0  광주광역시 북구    2.961592         광주광역시     북구  \n",
       "1  광주광역시 북구    1.156871         광주광역시     북구  \n",
       "2  광주광역시 북구    4.134254         광주광역시     북구  "
      ]
     },
     "execution_count": 59,
     "metadata": {},
     "output_type": "execute_result"
    }
   ],
   "source": [
    "park['Gu/Gun'] = park['소재지도로명주소'].str.split(' ', expand=True)[1]\n",
    "park.head(3)"
   ]
  },
  {
   "cell_type": "code",
   "execution_count": 60,
   "metadata": {},
   "outputs": [
    {
     "data": {
      "text/html": [
       "<div>\n",
       "<style scoped>\n",
       "    .dataframe tbody tr th:only-of-type {\n",
       "        vertical-align: middle;\n",
       "    }\n",
       "\n",
       "    .dataframe tbody tr th {\n",
       "        vertical-align: top;\n",
       "    }\n",
       "\n",
       "    .dataframe thead th {\n",
       "        text-align: right;\n",
       "    }\n",
       "</style>\n",
       "<table border=\"1\" class=\"dataframe\">\n",
       "  <thead>\n",
       "    <tr style=\"text-align: right;\">\n",
       "      <th></th>\n",
       "      <th>위도</th>\n",
       "      <th>경도</th>\n",
       "    </tr>\n",
       "  </thead>\n",
       "  <tbody>\n",
       "    <tr>\n",
       "      <th>count</th>\n",
       "      <td>16096.000000</td>\n",
       "      <td>16096.000000</td>\n",
       "    </tr>\n",
       "    <tr>\n",
       "      <th>mean</th>\n",
       "      <td>36.393299</td>\n",
       "      <td>127.583975</td>\n",
       "    </tr>\n",
       "    <tr>\n",
       "      <th>std</th>\n",
       "      <td>1.034441</td>\n",
       "      <td>0.896596</td>\n",
       "    </tr>\n",
       "    <tr>\n",
       "      <th>min</th>\n",
       "      <td>33.218666</td>\n",
       "      <td>125.432215</td>\n",
       "    </tr>\n",
       "    <tr>\n",
       "      <th>25%</th>\n",
       "      <td>35.488614</td>\n",
       "      <td>126.900125</td>\n",
       "    </tr>\n",
       "    <tr>\n",
       "      <th>50%</th>\n",
       "      <td>36.403171</td>\n",
       "      <td>127.150142</td>\n",
       "    </tr>\n",
       "    <tr>\n",
       "      <th>75%</th>\n",
       "      <td>37.419200</td>\n",
       "      <td>128.512760</td>\n",
       "    </tr>\n",
       "    <tr>\n",
       "      <th>max</th>\n",
       "      <td>38.350990</td>\n",
       "      <td>137.202661</td>\n",
       "    </tr>\n",
       "  </tbody>\n",
       "</table>\n",
       "</div>"
      ],
      "text/plain": [
       "                 위도            경도\n",
       "count  16096.000000  16096.000000\n",
       "mean      36.393299    127.583975\n",
       "std        1.034441      0.896596\n",
       "min       33.218666    125.432215\n",
       "25%       35.488614    126.900125\n",
       "50%       36.403171    127.150142\n",
       "75%       37.419200    128.512760\n",
       "max       38.350990    137.202661"
      ]
     },
     "execution_count": 60,
     "metadata": {},
     "output_type": "execute_result"
    }
   ],
   "source": [
    "park[['위도', '경도']].describe()"
   ]
  },
  {
   "cell_type": "markdown",
   "metadata": {},
   "source": [
    "## Remove outliers"
   ]
  },
  {
   "cell_type": "code",
   "execution_count": 61,
   "metadata": {},
   "outputs": [
    {
     "data": {
      "text/plain": [
       "(16095, 15)"
      ]
     },
     "execution_count": 61,
     "metadata": {},
     "output_type": "execute_result"
    }
   ],
   "source": [
    "park_loc_notnull = park.loc[(park['위도'] > 33 ) & (park['경도'] < 132.5) & park['City/Province'].notnull()]\n",
    "park_loc_notnull.shape"
   ]
  },
  {
   "cell_type": "code",
   "execution_count": 62,
   "metadata": {},
   "outputs": [
    {
     "data": {
      "text/plain": [
       "경기도        3250\n",
       "경상남도       1814\n",
       "충청남도       1708\n",
       "서울특별시      1330\n",
       "전라북도       1138\n",
       "전라남도        925\n",
       "충청북도        910\n",
       "울산광역시       833\n",
       "경상북도        785\n",
       "강원도         724\n",
       "대구광역시       580\n",
       "부산광역시       530\n",
       "인천광역시       507\n",
       "대전광역시       384\n",
       "광주광역시       362\n",
       "제주특별자치도     245\n",
       "세종특별자치시      70\n",
       "Name: City/Province, dtype: int64"
      ]
     },
     "execution_count": 62,
     "metadata": {},
     "output_type": "execute_result"
    }
   ],
   "source": [
    "park_loc_notnull['City/Province'].value_counts()"
   ]
  },
  {
   "cell_type": "code",
   "execution_count": 64,
   "metadata": {
    "scrolled": true
   },
   "outputs": [
    {
     "data": {
      "image/png": "[encoded data removed]",
      "text/plain": [
       "<Figure size 640x480 with 1 Axes>"
      ]
     },
     "metadata": {},
     "output_type": "display_data"
    },
    {
     "data": {
      "text/plain": [
       "<ggplot: (30490308251)>"
      ]
     },
     "execution_count": 64,
     "metadata": {},
     "output_type": "execute_result"
    }
   ],
   "source": [
    "(ggplot(park_loc_notnull)\n",
    " + aes(x='경도', y='위도', color='City/Province')\n",
    " + geom_point()\n",
    " + theme(text=element_text(family='GungSuh'))\n",
    ")"
   ]
  }
 ],
 "metadata": {
  "kernelspec": {
   "display_name": "Python 3",
   "language": "python",
   "name": "python3"
  },
  "language_info": {
   "codemirror_mode": {
    "name": "ipython",
    "version": 3
   },
   "file_extension": ".py",
   "mimetype": "text/x-python",
   "name": "python",
   "nbconvert_exporter": "python",
   "pygments_lexer": "ipython3",
   "version": "3.6.4"
  }
 },
 "nbformat": 4,
 "nbformat_minor": 2
}
